{
  "nbformat": 4,
  "nbformat_minor": 0,
  "metadata": {
    "colab": {
      "name": "The Battle of Neighborhoods",
      "provenance": [],
      "authorship_tag": "ABX9TyMK4XaI6oqBs+mj41peXwaS",
      "include_colab_link": true
    },
    "kernelspec": {
      "name": "python3",
      "display_name": "Python 3"
    }
  },
  "cells": [
    {
      "cell_type": "markdown",
      "metadata": {
        "id": "view-in-github",
        "colab_type": "text"
      },
      "source": [
        "<a href=\"https://colab.research.google.com/github/anasmghouri/Coursera_Capstone/blob/main/The_Battle_of_Neighborhoods_p1.ipynb\" target=\"_parent\"><img src=\"https://colab.research.google.com/assets/colab-badge.svg\" alt=\"Open In Colab\"/></a>"
      ]
    },
    {
      "cell_type": "code",
      "metadata": {
        "id": "rH4BpRe4ziwP",
        "outputId": "84c28a54-1f3b-4095-91c0-823e256206f6",
        "colab": {
          "base_uri": "https://localhost:8080/"
        }
      },
      "source": [
        "import pandas as pd\r\n",
        "pd.set_option('display.max_columns', None)\r\n",
        "pd.set_option('display.max_rows', None)\r\n",
        "import requests\r\n",
        "import re\r\n",
        "\r\n",
        "!pip install geopy\r\n",
        "#!conda install -c conda-forge geopy --yes # uncomment this line if you haven't completed the Foursquare API lab\r\n",
        "from geopy.geocoders import Nominatim # convert an address into latitude and longitude values"
      ],
      "execution_count": 52,
      "outputs": [
        {
          "output_type": "stream",
          "text": [
            "Requirement already satisfied: geopy in /usr/local/lib/python3.7/dist-packages (1.17.0)\n",
            "Requirement already satisfied: geographiclib<2,>=1.49 in /usr/local/lib/python3.7/dist-packages (from geopy) (1.50)\n"
          ],
          "name": "stdout"
        }
      ]
    },
    {
      "cell_type": "code",
      "metadata": {
        "id": "D9uAUnpT0OWy",
        "outputId": "a3da87a9-08dc-4f6d-b7b6-6de62aa91f3a",
        "colab": {
          "base_uri": "https://localhost:8080/",
          "height": 195
        }
      },
      "source": [
        "url = \"https://de.wikipedia.org/wiki/Stadtbezirke_M%C3%BCnchens\"\r\n",
        "html = requests.get(url).content\r\n",
        "df_list = pd.read_html(html)\r\n",
        "Mnc_popp = df_list[0]\r\n",
        "Mnc_popp.rename(columns={'Nr.': 'No.', 'Stadtbezirk': 'Borough', 'Fläche(km²)': 'Area(km²)', 'Einwohner': 'Population', 'Dichte(Einw./km²)': 'Density(Pop/km²)', 'Ausländer(%)': 'Foreigners(%)'}, inplace=True)\r\n",
        "Mnc_popp['Area(km²)'] = Mnc_popp['Area(km²)'].div(100).round(2)\r\n",
        "Mnc_popp['Foreigners(%)'] = Mnc_popp['Foreigners(%)'].div(10).round(2)\r\n",
        "Mnc_popp.head()"
      ],
      "execution_count": 53,
      "outputs": [
        {
          "output_type": "execute_result",
          "data": {
            "text/html": [
              "<div>\n",
              "<style scoped>\n",
              "    .dataframe tbody tr th:only-of-type {\n",
              "        vertical-align: middle;\n",
              "    }\n",
              "\n",
              "    .dataframe tbody tr th {\n",
              "        vertical-align: top;\n",
              "    }\n",
              "\n",
              "    .dataframe thead th {\n",
              "        text-align: right;\n",
              "    }\n",
              "</style>\n",
              "<table border=\"1\" class=\"dataframe\">\n",
              "  <thead>\n",
              "    <tr style=\"text-align: right;\">\n",
              "      <th></th>\n",
              "      <th>No.</th>\n",
              "      <th>Borough</th>\n",
              "      <th>Area(km²)</th>\n",
              "      <th>Population</th>\n",
              "      <th>Density(Pop/km²)</th>\n",
              "      <th>Foreigners(%)</th>\n",
              "    </tr>\n",
              "  </thead>\n",
              "  <tbody>\n",
              "    <tr>\n",
              "      <th>0</th>\n",
              "      <td>1.0</td>\n",
              "      <td>Altstadt-Lehel</td>\n",
              "      <td>3.15</td>\n",
              "      <td>21.126</td>\n",
              "      <td>6.716</td>\n",
              "      <td>26.0</td>\n",
              "    </tr>\n",
              "    <tr>\n",
              "      <th>1</th>\n",
              "      <td>2.0</td>\n",
              "      <td>Ludwigsvorstadt-Isarvorstadt</td>\n",
              "      <td>4.40</td>\n",
              "      <td>51.933</td>\n",
              "      <td>11.799</td>\n",
              "      <td>28.3</td>\n",
              "    </tr>\n",
              "    <tr>\n",
              "      <th>2</th>\n",
              "      <td>3.0</td>\n",
              "      <td>Maxvorstadt</td>\n",
              "      <td>4.30</td>\n",
              "      <td>51.834</td>\n",
              "      <td>12.060</td>\n",
              "      <td>25.6</td>\n",
              "    </tr>\n",
              "    <tr>\n",
              "      <th>3</th>\n",
              "      <td>4.0</td>\n",
              "      <td>Schwabing-West</td>\n",
              "      <td>4.36</td>\n",
              "      <td>68.935</td>\n",
              "      <td>15.800</td>\n",
              "      <td>22.8</td>\n",
              "    </tr>\n",
              "    <tr>\n",
              "      <th>4</th>\n",
              "      <td>5.0</td>\n",
              "      <td>Au-Haidhausen</td>\n",
              "      <td>4.22</td>\n",
              "      <td>61.654</td>\n",
              "      <td>14.611</td>\n",
              "      <td>23.5</td>\n",
              "    </tr>\n",
              "  </tbody>\n",
              "</table>\n",
              "</div>"
            ],
            "text/plain": [
              "   No.                       Borough  Area(km²) Population  Density(Pop/km²)  \\\n",
              "0  1.0                Altstadt-Lehel       3.15     21.126             6.716   \n",
              "1  2.0  Ludwigsvorstadt-Isarvorstadt       4.40     51.933            11.799   \n",
              "2  3.0                   Maxvorstadt       4.30     51.834            12.060   \n",
              "3  4.0                Schwabing-West       4.36     68.935            15.800   \n",
              "4  5.0                 Au-Haidhausen       4.22     61.654            14.611   \n",
              "\n",
              "   Foreigners(%)  \n",
              "0           26.0  \n",
              "1           28.3  \n",
              "2           25.6  \n",
              "3           22.8  \n",
              "4           23.5  "
            ]
          },
          "metadata": {
            "tags": []
          },
          "execution_count": 53
        }
      ]
    },
    {
      "cell_type": "code",
      "metadata": {
        "id": "GbuH_u4x0W2Z",
        "outputId": "c424ce46-4a9a-4abc-c4c3-1afd87d5c9f4",
        "colab": {
          "base_uri": "https://localhost:8080/",
          "height": 195
        }
      },
      "source": [
        "Mnc_boroughs = df_list[1]\r\n",
        "Mnc_boroughs.rename(columns={'Stadt-bezirks-nr.': 'No.', 'Stadtbezirk': 'Borough', 'Stadtbezirksteile (Nr.)': 'Districts'}, inplace=True)\r\n",
        "Mnc_boroughs.head()"
      ],
      "execution_count": 54,
      "outputs": [
        {
          "output_type": "execute_result",
          "data": {
            "text/html": [
              "<div>\n",
              "<style scoped>\n",
              "    .dataframe tbody tr th:only-of-type {\n",
              "        vertical-align: middle;\n",
              "    }\n",
              "\n",
              "    .dataframe tbody tr th {\n",
              "        vertical-align: top;\n",
              "    }\n",
              "\n",
              "    .dataframe thead th {\n",
              "        text-align: right;\n",
              "    }\n",
              "</style>\n",
              "<table border=\"1\" class=\"dataframe\">\n",
              "  <thead>\n",
              "    <tr style=\"text-align: right;\">\n",
              "      <th></th>\n",
              "      <th>No.</th>\n",
              "      <th>Borough</th>\n",
              "      <th>Districts</th>\n",
              "    </tr>\n",
              "  </thead>\n",
              "  <tbody>\n",
              "    <tr>\n",
              "      <th>0</th>\n",
              "      <td>1</td>\n",
              "      <td>Altstadt-Lehel</td>\n",
              "      <td>Graggenau (1), Angerviertel (2), Hackenviertel...</td>\n",
              "    </tr>\n",
              "    <tr>\n",
              "      <th>1</th>\n",
              "      <td>2</td>\n",
              "      <td>Ludwigsvorstadt-Isarvorstadt</td>\n",
              "      <td>Gärtnerplatz (1), Deutsches Museum (2), Glocke...</td>\n",
              "    </tr>\n",
              "    <tr>\n",
              "      <th>2</th>\n",
              "      <td>3</td>\n",
              "      <td>Maxvorstadt</td>\n",
              "      <td>Königsplatz (1), Augustenstraße (2), St. Benno...</td>\n",
              "    </tr>\n",
              "    <tr>\n",
              "      <th>3</th>\n",
              "      <td>4</td>\n",
              "      <td>Schwabing-West</td>\n",
              "      <td>Neuschwabing (1), Am Luitpoldpark (2), Schwere...</td>\n",
              "    </tr>\n",
              "    <tr>\n",
              "      <th>4</th>\n",
              "      <td>5</td>\n",
              "      <td>Au-Haidhausen</td>\n",
              "      <td>Maximilianeum (1), Steinhausen (2), Haidhausen...</td>\n",
              "    </tr>\n",
              "  </tbody>\n",
              "</table>\n",
              "</div>"
            ],
            "text/plain": [
              "   No.                       Borough  \\\n",
              "0    1                Altstadt-Lehel   \n",
              "1    2  Ludwigsvorstadt-Isarvorstadt   \n",
              "2    3                   Maxvorstadt   \n",
              "3    4                Schwabing-West   \n",
              "4    5                 Au-Haidhausen   \n",
              "\n",
              "                                           Districts  \n",
              "0  Graggenau (1), Angerviertel (2), Hackenviertel...  \n",
              "1  Gärtnerplatz (1), Deutsches Museum (2), Glocke...  \n",
              "2  Königsplatz (1), Augustenstraße (2), St. Benno...  \n",
              "3  Neuschwabing (1), Am Luitpoldpark (2), Schwere...  \n",
              "4  Maximilianeum (1), Steinhausen (2), Haidhausen...  "
            ]
          },
          "metadata": {
            "tags": []
          },
          "execution_count": 54
        }
      ]
    },
    {
      "cell_type": "code",
      "metadata": {
        "id": "Hb6X7YdV1F0C",
        "outputId": "e2c2c069-e69f-4a1e-f56b-583d0cfbaf03",
        "colab": {
          "base_uri": "https://localhost:8080/",
          "height": 195
        }
      },
      "source": [
        "# postal code data from: https://www.suche-postleitzahl.org/plz-gebiet/80\r\n",
        "Mnc_postal_codes = pd.read_excel(r\"https://github.com/anasmghouri/Coursera_Capstone/blob/main/MNC.xlsx?raw=true\", sheet_name='PLZ')\r\n",
        "Mnc_postal_codes.rename(columns={'PLZ': 'Postal Code', 'Stadtteil': 'Borough'}, inplace=True)\r\n",
        "Mnc_postal_codes.head()"
      ],
      "execution_count": 55,
      "outputs": [
        {
          "output_type": "execute_result",
          "data": {
            "text/html": [
              "<div>\n",
              "<style scoped>\n",
              "    .dataframe tbody tr th:only-of-type {\n",
              "        vertical-align: middle;\n",
              "    }\n",
              "\n",
              "    .dataframe tbody tr th {\n",
              "        vertical-align: top;\n",
              "    }\n",
              "\n",
              "    .dataframe thead th {\n",
              "        text-align: right;\n",
              "    }\n",
              "</style>\n",
              "<table border=\"1\" class=\"dataframe\">\n",
              "  <thead>\n",
              "    <tr style=\"text-align: right;\">\n",
              "      <th></th>\n",
              "      <th>Postal Code</th>\n",
              "      <th>Borough</th>\n",
              "    </tr>\n",
              "  </thead>\n",
              "  <tbody>\n",
              "    <tr>\n",
              "      <th>0</th>\n",
              "      <td>80331</td>\n",
              "      <td>Altstadt-Lehel</td>\n",
              "    </tr>\n",
              "    <tr>\n",
              "      <th>1</th>\n",
              "      <td>80331</td>\n",
              "      <td>Ludwigsvorstadt-Isarvorstadt</td>\n",
              "    </tr>\n",
              "    <tr>\n",
              "      <th>2</th>\n",
              "      <td>80333</td>\n",
              "      <td>Altstadt-Lehel</td>\n",
              "    </tr>\n",
              "    <tr>\n",
              "      <th>3</th>\n",
              "      <td>80333</td>\n",
              "      <td>Maxvorstadt</td>\n",
              "    </tr>\n",
              "    <tr>\n",
              "      <th>4</th>\n",
              "      <td>80335</td>\n",
              "      <td>Altstadt-Lehel</td>\n",
              "    </tr>\n",
              "  </tbody>\n",
              "</table>\n",
              "</div>"
            ],
            "text/plain": [
              "   Postal Code                       Borough\n",
              "0        80331                Altstadt-Lehel\n",
              "1        80331  Ludwigsvorstadt-Isarvorstadt\n",
              "2        80333                Altstadt-Lehel\n",
              "3        80333                   Maxvorstadt\n",
              "4        80335                Altstadt-Lehel"
            ]
          },
          "metadata": {
            "tags": []
          },
          "execution_count": 55
        }
      ]
    },
    {
      "cell_type": "code",
      "metadata": {
        "id": "7qj_KAYI1d-T",
        "outputId": "12c5b6d9-bd3c-469e-fef1-d67fbfa298bf",
        "colab": {
          "base_uri": "https://localhost:8080/",
          "height": 195
        }
      },
      "source": [
        "# prices data 2020 from: https://wirkaufen24.de/immobilienpreise-munchen/\r\n",
        "Mnc_prices = pd.read_excel(r\"https://github.com/anasmghouri/Coursera_Capstone/blob/main/MNC.xlsx?raw=true\", sheet_name='Price')\r\n",
        "del Mnc_prices['Stadt']\r\n",
        "Mnc_prices.rename(columns={'Postleitzahl': 'Postal Code', 'Straße': 'Street', 'm² im Ø': 'Objectm²', 'Ø - Preis': 'Object€', 'm² Ø in €': '€/m²'}, inplace=True)\r\n",
        "Mnc_prices.head()"
      ],
      "execution_count": 56,
      "outputs": [
        {
          "output_type": "execute_result",
          "data": {
            "text/html": [
              "<div>\n",
              "<style scoped>\n",
              "    .dataframe tbody tr th:only-of-type {\n",
              "        vertical-align: middle;\n",
              "    }\n",
              "\n",
              "    .dataframe tbody tr th {\n",
              "        vertical-align: top;\n",
              "    }\n",
              "\n",
              "    .dataframe thead th {\n",
              "        text-align: right;\n",
              "    }\n",
              "</style>\n",
              "<table border=\"1\" class=\"dataframe\">\n",
              "  <thead>\n",
              "    <tr style=\"text-align: right;\">\n",
              "      <th></th>\n",
              "      <th>Postal Code</th>\n",
              "      <th>Street</th>\n",
              "      <th>Objectm²</th>\n",
              "      <th>Object€</th>\n",
              "      <th>€/m²</th>\n",
              "    </tr>\n",
              "  </thead>\n",
              "  <tbody>\n",
              "    <tr>\n",
              "      <th>0</th>\n",
              "      <td>80333</td>\n",
              "      <td>Augustenstraße</td>\n",
              "      <td>170.0</td>\n",
              "      <td>2195000</td>\n",
              "      <td>12911.0</td>\n",
              "    </tr>\n",
              "    <tr>\n",
              "      <th>1</th>\n",
              "      <td>80333</td>\n",
              "      <td>Barer Straße</td>\n",
              "      <td>66.0</td>\n",
              "      <td>1338000</td>\n",
              "      <td>20272.0</td>\n",
              "    </tr>\n",
              "    <tr>\n",
              "      <th>2</th>\n",
              "      <td>80333</td>\n",
              "      <td>Karlstr.</td>\n",
              "      <td>94.0</td>\n",
              "      <td>2600000</td>\n",
              "      <td>27659.0</td>\n",
              "    </tr>\n",
              "    <tr>\n",
              "      <th>3</th>\n",
              "      <td>80333</td>\n",
              "      <td>Maximiliansplatz</td>\n",
              "      <td>166.0</td>\n",
              "      <td>22000000</td>\n",
              "      <td>132530.0</td>\n",
              "    </tr>\n",
              "    <tr>\n",
              "      <th>4</th>\n",
              "      <td>80333</td>\n",
              "      <td>Richard-Wagner-Str.</td>\n",
              "      <td>211.0</td>\n",
              "      <td>4400000</td>\n",
              "      <td>20853.0</td>\n",
              "    </tr>\n",
              "  </tbody>\n",
              "</table>\n",
              "</div>"
            ],
            "text/plain": [
              "   Postal Code               Street  Objectm²   Object€      €/m²\n",
              "0        80333       Augustenstraße     170.0   2195000   12911.0\n",
              "1        80333         Barer Straße      66.0   1338000   20272.0\n",
              "2        80333             Karlstr.      94.0   2600000   27659.0\n",
              "3        80333     Maximiliansplatz     166.0  22000000  132530.0\n",
              "4        80333  Richard-Wagner-Str.     211.0   4400000   20853.0"
            ]
          },
          "metadata": {
            "tags": []
          },
          "execution_count": 56
        }
      ]
    },
    {
      "cell_type": "code",
      "metadata": {
        "id": "Z4DWEB9YUQ7H"
      },
      "source": [
        ""
      ],
      "execution_count": 56,
      "outputs": []
    }
  ]
}