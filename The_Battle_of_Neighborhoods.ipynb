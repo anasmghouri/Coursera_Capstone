{
  "nbformat": 4,
  "nbformat_minor": 0,
  "metadata": {
    "colab": {
      "name": "The Battle of Neighborhoods",
      "provenance": [],
      "authorship_tag": "ABX9TyMygh4nRrD1M4LiP8ut/fYe",
      "include_colab_link": true
    },
    "kernelspec": {
      "name": "python3",
      "display_name": "Python 3"
    }
  },
  "cells": [
    {
      "cell_type": "markdown",
      "metadata": {
        "id": "view-in-github",
        "colab_type": "text"
      },
      "source": [
        "<a href=\"https://colab.research.google.com/github/anasmghouri/Coursera_Capstone/blob/main/The_Battle_of_Neighborhoods.ipynb\" target=\"_parent\"><img src=\"https://colab.research.google.com/assets/colab-badge.svg\" alt=\"Open In Colab\"/></a>"
      ]
    },
    {
      "cell_type": "code",
      "metadata": {
        "id": "rH4BpRe4ziwP",
        "colab": {
          "base_uri": "https://localhost:8080/"
        },
        "outputId": "d96dc026-3c05-4e02-d597-df8223e2cad8"
      },
      "source": [
        "import pandas as pd\n",
        "pd.set_option('display.max_columns', None)\n",
        "pd.set_option('display.max_rows', None)\n",
        "import requests\n",
        "import re\n",
        "\n",
        "!pip install geopy\n",
        "from geopy.exc import GeocoderTimedOut \n",
        "from geopy.geocoders import Nominatim"
      ],
      "execution_count": 19,
      "outputs": [
        {
          "output_type": "stream",
          "text": [
            "Requirement already satisfied: geopy in /usr/local/lib/python3.7/dist-packages (1.17.0)\n",
            "Requirement already satisfied: geographiclib<2,>=1.49 in /usr/local/lib/python3.7/dist-packages (from geopy) (1.50)\n"
          ],
          "name": "stdout"
        }
      ]
    },
    {
      "cell_type": "code",
      "metadata": {
        "id": "D9uAUnpT0OWy",
        "colab": {
          "base_uri": "https://localhost:8080/",
          "height": 197
        },
        "outputId": "4b2efdf7-3ca3-4e53-c7c2-897f25f445ec"
      },
      "source": [
        "url = \"https://de.wikipedia.org/wiki/Stadtbezirke_M%C3%BCnchens\"\n",
        "html = requests.get(url).content\n",
        "df_list = pd.read_html(html)\n",
        "Mnc_popp = df_list[0]\n",
        "Mnc_popp.rename(columns={'Nr.': 'No.', 'Stadtbezirk': 'Borough', 'Fläche(km²)': 'Area(km²)', 'Einwohner': 'Population', 'Dichte(Einw./km²)': 'Density(Pop/km²)', 'Ausländer(%)': 'Foreigners(%)'}, inplace=True)\n",
        "Mnc_popp['Area(km²)'] = Mnc_popp['Area(km²)'].div(100).round(2)\n",
        "Mnc_popp['Foreigners(%)'] = Mnc_popp['Foreigners(%)'].div(10).round(2)\n",
        "Mnc_popp.head()"
      ],
      "execution_count": 20,
      "outputs": [
        {
          "output_type": "execute_result",
          "data": {
            "text/html": [
              "<div>\n",
              "<style scoped>\n",
              "    .dataframe tbody tr th:only-of-type {\n",
              "        vertical-align: middle;\n",
              "    }\n",
              "\n",
              "    .dataframe tbody tr th {\n",
              "        vertical-align: top;\n",
              "    }\n",
              "\n",
              "    .dataframe thead th {\n",
              "        text-align: right;\n",
              "    }\n",
              "</style>\n",
              "<table border=\"1\" class=\"dataframe\">\n",
              "  <thead>\n",
              "    <tr style=\"text-align: right;\">\n",
              "      <th></th>\n",
              "      <th>No.</th>\n",
              "      <th>Borough</th>\n",
              "      <th>Area(km²)</th>\n",
              "      <th>Population</th>\n",
              "      <th>Density(Pop/km²)</th>\n",
              "      <th>Foreigners(%)</th>\n",
              "    </tr>\n",
              "  </thead>\n",
              "  <tbody>\n",
              "    <tr>\n",
              "      <th>0</th>\n",
              "      <td>1.0</td>\n",
              "      <td>Altstadt-Lehel</td>\n",
              "      <td>3.15</td>\n",
              "      <td>21.126</td>\n",
              "      <td>6.716</td>\n",
              "      <td>26.0</td>\n",
              "    </tr>\n",
              "    <tr>\n",
              "      <th>1</th>\n",
              "      <td>2.0</td>\n",
              "      <td>Ludwigsvorstadt-Isarvorstadt</td>\n",
              "      <td>4.40</td>\n",
              "      <td>51.933</td>\n",
              "      <td>11.799</td>\n",
              "      <td>28.3</td>\n",
              "    </tr>\n",
              "    <tr>\n",
              "      <th>2</th>\n",
              "      <td>3.0</td>\n",
              "      <td>Maxvorstadt</td>\n",
              "      <td>4.30</td>\n",
              "      <td>51.834</td>\n",
              "      <td>12.060</td>\n",
              "      <td>25.6</td>\n",
              "    </tr>\n",
              "    <tr>\n",
              "      <th>3</th>\n",
              "      <td>4.0</td>\n",
              "      <td>Schwabing-West</td>\n",
              "      <td>4.36</td>\n",
              "      <td>68.935</td>\n",
              "      <td>15.800</td>\n",
              "      <td>22.8</td>\n",
              "    </tr>\n",
              "    <tr>\n",
              "      <th>4</th>\n",
              "      <td>5.0</td>\n",
              "      <td>Au-Haidhausen</td>\n",
              "      <td>4.22</td>\n",
              "      <td>61.654</td>\n",
              "      <td>14.611</td>\n",
              "      <td>23.5</td>\n",
              "    </tr>\n",
              "  </tbody>\n",
              "</table>\n",
              "</div>"
            ],
            "text/plain": [
              "   No.                       Borough  Area(km²) Population  Density(Pop/km²)  \\\n",
              "0  1.0                Altstadt-Lehel       3.15     21.126             6.716   \n",
              "1  2.0  Ludwigsvorstadt-Isarvorstadt       4.40     51.933            11.799   \n",
              "2  3.0                   Maxvorstadt       4.30     51.834            12.060   \n",
              "3  4.0                Schwabing-West       4.36     68.935            15.800   \n",
              "4  5.0                 Au-Haidhausen       4.22     61.654            14.611   \n",
              "\n",
              "   Foreigners(%)  \n",
              "0           26.0  \n",
              "1           28.3  \n",
              "2           25.6  \n",
              "3           22.8  \n",
              "4           23.5  "
            ]
          },
          "metadata": {
            "tags": []
          },
          "execution_count": 20
        }
      ]
    },
    {
      "cell_type": "code",
      "metadata": {
        "id": "GbuH_u4x0W2Z",
        "colab": {
          "base_uri": "https://localhost:8080/",
          "height": 197
        },
        "outputId": "5f28288f-4e00-4d96-969f-fc8f8539e89a"
      },
      "source": [
        "Mnc_boroughs = df_list[1]\n",
        "Mnc_boroughs.rename(columns={'Stadt-bezirks-nr.': 'Borough No.', 'Stadtbezirk': 'Borough', 'Stadtbezirksteile (Nr.)': 'Districts'}, inplace=True)\n",
        "Mnc_boroughs['Districts'] = Mnc_boroughs['Districts'].str.replace(r'\\(\\d+\\)', '')\n",
        "Mnc_boroughs.head()"
      ],
      "execution_count": 21,
      "outputs": [
        {
          "output_type": "execute_result",
          "data": {
            "text/html": [
              "<div>\n",
              "<style scoped>\n",
              "    .dataframe tbody tr th:only-of-type {\n",
              "        vertical-align: middle;\n",
              "    }\n",
              "\n",
              "    .dataframe tbody tr th {\n",
              "        vertical-align: top;\n",
              "    }\n",
              "\n",
              "    .dataframe thead th {\n",
              "        text-align: right;\n",
              "    }\n",
              "</style>\n",
              "<table border=\"1\" class=\"dataframe\">\n",
              "  <thead>\n",
              "    <tr style=\"text-align: right;\">\n",
              "      <th></th>\n",
              "      <th>Borough No.</th>\n",
              "      <th>Borough</th>\n",
              "      <th>Districts</th>\n",
              "    </tr>\n",
              "  </thead>\n",
              "  <tbody>\n",
              "    <tr>\n",
              "      <th>0</th>\n",
              "      <td>1</td>\n",
              "      <td>Altstadt-Lehel</td>\n",
              "      <td>Graggenau , Angerviertel , Hackenviertel , Kre...</td>\n",
              "    </tr>\n",
              "    <tr>\n",
              "      <th>1</th>\n",
              "      <td>2</td>\n",
              "      <td>Ludwigsvorstadt-Isarvorstadt</td>\n",
              "      <td>Gärtnerplatz , Deutsches Museum , Glockenbach ...</td>\n",
              "    </tr>\n",
              "    <tr>\n",
              "      <th>2</th>\n",
              "      <td>3</td>\n",
              "      <td>Maxvorstadt</td>\n",
              "      <td>Königsplatz , Augustenstraße , St. Benno , Mar...</td>\n",
              "    </tr>\n",
              "    <tr>\n",
              "      <th>3</th>\n",
              "      <td>4</td>\n",
              "      <td>Schwabing-West</td>\n",
              "      <td>Neuschwabing , Am Luitpoldpark , Schwere-Reite...</td>\n",
              "    </tr>\n",
              "    <tr>\n",
              "      <th>4</th>\n",
              "      <td>5</td>\n",
              "      <td>Au-Haidhausen</td>\n",
              "      <td>Maximilianeum , Steinhausen , Haidhausen-Nord ...</td>\n",
              "    </tr>\n",
              "  </tbody>\n",
              "</table>\n",
              "</div>"
            ],
            "text/plain": [
              "   Borough No.                       Borough  \\\n",
              "0            1                Altstadt-Lehel   \n",
              "1            2  Ludwigsvorstadt-Isarvorstadt   \n",
              "2            3                   Maxvorstadt   \n",
              "3            4                Schwabing-West   \n",
              "4            5                 Au-Haidhausen   \n",
              "\n",
              "                                           Districts  \n",
              "0  Graggenau , Angerviertel , Hackenviertel , Kre...  \n",
              "1  Gärtnerplatz , Deutsches Museum , Glockenbach ...  \n",
              "2  Königsplatz , Augustenstraße , St. Benno , Mar...  \n",
              "3  Neuschwabing , Am Luitpoldpark , Schwere-Reite...  \n",
              "4  Maximilianeum , Steinhausen , Haidhausen-Nord ...  "
            ]
          },
          "metadata": {
            "tags": []
          },
          "execution_count": 21
        }
      ]
    },
    {
      "cell_type": "code",
      "metadata": {
        "id": "Hb6X7YdV1F0C",
        "colab": {
          "base_uri": "https://localhost:8080/",
          "height": 197
        },
        "outputId": "f446bd9a-7a06-4a23-a4c5-9516f7c309e6"
      },
      "source": [
        "# postal code data from: https://www.suche-postleitzahl.org/plz-gebiet/80\n",
        "Mnc_postal_codes = pd.read_excel(r\"https://github.com/anasmghouri/Coursera_Capstone/blob/main/MNC.xlsx?raw=true\", sheet_name='PLZ')\n",
        "Mnc_postal_codes.rename(columns={'PLZ': 'Postal Code', 'Stadtteil': 'Borough'}, inplace=True)\n",
        "Mnc_postal_codes.head()"
      ],
      "execution_count": 22,
      "outputs": [
        {
          "output_type": "execute_result",
          "data": {
            "text/html": [
              "<div>\n",
              "<style scoped>\n",
              "    .dataframe tbody tr th:only-of-type {\n",
              "        vertical-align: middle;\n",
              "    }\n",
              "\n",
              "    .dataframe tbody tr th {\n",
              "        vertical-align: top;\n",
              "    }\n",
              "\n",
              "    .dataframe thead th {\n",
              "        text-align: right;\n",
              "    }\n",
              "</style>\n",
              "<table border=\"1\" class=\"dataframe\">\n",
              "  <thead>\n",
              "    <tr style=\"text-align: right;\">\n",
              "      <th></th>\n",
              "      <th>Postal Code</th>\n",
              "      <th>Borough</th>\n",
              "    </tr>\n",
              "  </thead>\n",
              "  <tbody>\n",
              "    <tr>\n",
              "      <th>0</th>\n",
              "      <td>80331</td>\n",
              "      <td>Altstadt-Lehel</td>\n",
              "    </tr>\n",
              "    <tr>\n",
              "      <th>1</th>\n",
              "      <td>80331</td>\n",
              "      <td>Ludwigsvorstadt-Isarvorstadt</td>\n",
              "    </tr>\n",
              "    <tr>\n",
              "      <th>2</th>\n",
              "      <td>80333</td>\n",
              "      <td>Altstadt-Lehel</td>\n",
              "    </tr>\n",
              "    <tr>\n",
              "      <th>3</th>\n",
              "      <td>80333</td>\n",
              "      <td>Maxvorstadt</td>\n",
              "    </tr>\n",
              "    <tr>\n",
              "      <th>4</th>\n",
              "      <td>80335</td>\n",
              "      <td>Altstadt-Lehel</td>\n",
              "    </tr>\n",
              "  </tbody>\n",
              "</table>\n",
              "</div>"
            ],
            "text/plain": [
              "   Postal Code                       Borough\n",
              "0        80331                Altstadt-Lehel\n",
              "1        80331  Ludwigsvorstadt-Isarvorstadt\n",
              "2        80333                Altstadt-Lehel\n",
              "3        80333                   Maxvorstadt\n",
              "4        80335                Altstadt-Lehel"
            ]
          },
          "metadata": {
            "tags": []
          },
          "execution_count": 22
        }
      ]
    },
    {
      "cell_type": "code",
      "metadata": {
        "id": "7qj_KAYI1d-T",
        "colab": {
          "base_uri": "https://localhost:8080/",
          "height": 197
        },
        "outputId": "39f6a58d-0cc7-41ef-dfd1-2d61dcf4a16e"
      },
      "source": [
        "# prices data 2020 from: https://wirkaufen24.de/immobilienpreise-munchen/\n",
        "Mnc_prices = pd.read_excel(r\"https://github.com/anasmghouri/Coursera_Capstone/blob/main/MNC.xlsx?raw=true\", sheet_name='Price')\n",
        "del Mnc_prices['Stadt']\n",
        "Mnc_prices.rename(columns={'Postleitzahl': 'Postal Code', 'Straße': 'Street', 'm² im Ø': 'Objectm²', 'Ø - Preis': 'Object€', 'm² Ø in €': '€/m²'}, inplace=True)\n",
        "Mnc_prices.head()"
      ],
      "execution_count": 23,
      "outputs": [
        {
          "output_type": "execute_result",
          "data": {
            "text/html": [
              "<div>\n",
              "<style scoped>\n",
              "    .dataframe tbody tr th:only-of-type {\n",
              "        vertical-align: middle;\n",
              "    }\n",
              "\n",
              "    .dataframe tbody tr th {\n",
              "        vertical-align: top;\n",
              "    }\n",
              "\n",
              "    .dataframe thead th {\n",
              "        text-align: right;\n",
              "    }\n",
              "</style>\n",
              "<table border=\"1\" class=\"dataframe\">\n",
              "  <thead>\n",
              "    <tr style=\"text-align: right;\">\n",
              "      <th></th>\n",
              "      <th>Postal Code</th>\n",
              "      <th>Street</th>\n",
              "      <th>Objectm²</th>\n",
              "      <th>Object€</th>\n",
              "      <th>€/m²</th>\n",
              "    </tr>\n",
              "  </thead>\n",
              "  <tbody>\n",
              "    <tr>\n",
              "      <th>0</th>\n",
              "      <td>80333</td>\n",
              "      <td>Augustenstraße</td>\n",
              "      <td>170.0</td>\n",
              "      <td>2195000</td>\n",
              "      <td>12911.0</td>\n",
              "    </tr>\n",
              "    <tr>\n",
              "      <th>1</th>\n",
              "      <td>80333</td>\n",
              "      <td>Barer Straße</td>\n",
              "      <td>66.0</td>\n",
              "      <td>1338000</td>\n",
              "      <td>20272.0</td>\n",
              "    </tr>\n",
              "    <tr>\n",
              "      <th>2</th>\n",
              "      <td>80333</td>\n",
              "      <td>Karlstr.</td>\n",
              "      <td>94.0</td>\n",
              "      <td>2600000</td>\n",
              "      <td>27659.0</td>\n",
              "    </tr>\n",
              "    <tr>\n",
              "      <th>3</th>\n",
              "      <td>80333</td>\n",
              "      <td>Maximiliansplatz</td>\n",
              "      <td>166.0</td>\n",
              "      <td>22000000</td>\n",
              "      <td>132530.0</td>\n",
              "    </tr>\n",
              "    <tr>\n",
              "      <th>4</th>\n",
              "      <td>80333</td>\n",
              "      <td>Richard-Wagner-Str.</td>\n",
              "      <td>211.0</td>\n",
              "      <td>4400000</td>\n",
              "      <td>20853.0</td>\n",
              "    </tr>\n",
              "  </tbody>\n",
              "</table>\n",
              "</div>"
            ],
            "text/plain": [
              "   Postal Code               Street  Objectm²   Object€      €/m²\n",
              "0        80333       Augustenstraße     170.0   2195000   12911.0\n",
              "1        80333         Barer Straße      66.0   1338000   20272.0\n",
              "2        80333             Karlstr.      94.0   2600000   27659.0\n",
              "3        80333     Maximiliansplatz     166.0  22000000  132530.0\n",
              "4        80333  Richard-Wagner-Str.     211.0   4400000   20853.0"
            ]
          },
          "metadata": {
            "tags": []
          },
          "execution_count": 23
        }
      ]
    },
    {
      "cell_type": "code",
      "metadata": {
        "id": "Z4DWEB9YUQ7H",
        "colab": {
          "base_uri": "https://localhost:8080/",
          "height": 197
        },
        "outputId": "48b3a4cb-f7c7-45f3-bb66-b53fd3fb4392"
      },
      "source": [
        "Mnc_bor_prices = pd.merge(Mnc_postal_codes,  \n",
        "                      Mnc_prices,  \n",
        "                      on ='Postal Code',  \n",
        "                      how ='inner')\n",
        "\n",
        "Mnc_bor_prices.head()"
      ],
      "execution_count": 24,
      "outputs": [
        {
          "output_type": "execute_result",
          "data": {
            "text/html": [
              "<div>\n",
              "<style scoped>\n",
              "    .dataframe tbody tr th:only-of-type {\n",
              "        vertical-align: middle;\n",
              "    }\n",
              "\n",
              "    .dataframe tbody tr th {\n",
              "        vertical-align: top;\n",
              "    }\n",
              "\n",
              "    .dataframe thead th {\n",
              "        text-align: right;\n",
              "    }\n",
              "</style>\n",
              "<table border=\"1\" class=\"dataframe\">\n",
              "  <thead>\n",
              "    <tr style=\"text-align: right;\">\n",
              "      <th></th>\n",
              "      <th>Postal Code</th>\n",
              "      <th>Borough</th>\n",
              "      <th>Street</th>\n",
              "      <th>Objectm²</th>\n",
              "      <th>Object€</th>\n",
              "      <th>€/m²</th>\n",
              "    </tr>\n",
              "  </thead>\n",
              "  <tbody>\n",
              "    <tr>\n",
              "      <th>0</th>\n",
              "      <td>80333</td>\n",
              "      <td>Altstadt-Lehel</td>\n",
              "      <td>Augustenstraße</td>\n",
              "      <td>170.0</td>\n",
              "      <td>2195000</td>\n",
              "      <td>12911.0</td>\n",
              "    </tr>\n",
              "    <tr>\n",
              "      <th>1</th>\n",
              "      <td>80333</td>\n",
              "      <td>Altstadt-Lehel</td>\n",
              "      <td>Barer Straße</td>\n",
              "      <td>66.0</td>\n",
              "      <td>1338000</td>\n",
              "      <td>20272.0</td>\n",
              "    </tr>\n",
              "    <tr>\n",
              "      <th>2</th>\n",
              "      <td>80333</td>\n",
              "      <td>Altstadt-Lehel</td>\n",
              "      <td>Karlstr.</td>\n",
              "      <td>94.0</td>\n",
              "      <td>2600000</td>\n",
              "      <td>27659.0</td>\n",
              "    </tr>\n",
              "    <tr>\n",
              "      <th>3</th>\n",
              "      <td>80333</td>\n",
              "      <td>Altstadt-Lehel</td>\n",
              "      <td>Maximiliansplatz</td>\n",
              "      <td>166.0</td>\n",
              "      <td>22000000</td>\n",
              "      <td>132530.0</td>\n",
              "    </tr>\n",
              "    <tr>\n",
              "      <th>4</th>\n",
              "      <td>80333</td>\n",
              "      <td>Altstadt-Lehel</td>\n",
              "      <td>Richard-Wagner-Str.</td>\n",
              "      <td>211.0</td>\n",
              "      <td>4400000</td>\n",
              "      <td>20853.0</td>\n",
              "    </tr>\n",
              "  </tbody>\n",
              "</table>\n",
              "</div>"
            ],
            "text/plain": [
              "   Postal Code         Borough               Street  Objectm²   Object€  \\\n",
              "0        80333  Altstadt-Lehel       Augustenstraße     170.0   2195000   \n",
              "1        80333  Altstadt-Lehel         Barer Straße      66.0   1338000   \n",
              "2        80333  Altstadt-Lehel             Karlstr.      94.0   2600000   \n",
              "3        80333  Altstadt-Lehel     Maximiliansplatz     166.0  22000000   \n",
              "4        80333  Altstadt-Lehel  Richard-Wagner-Str.     211.0   4400000   \n",
              "\n",
              "       €/m²  \n",
              "0   12911.0  \n",
              "1   20272.0  \n",
              "2   27659.0  \n",
              "3  132530.0  \n",
              "4   20853.0  "
            ]
          },
          "metadata": {
            "tags": []
          },
          "execution_count": 24
        }
      ]
    },
    {
      "cell_type": "markdown",
      "metadata": {
        "id": "Zh5RVWiDzOi1"
      },
      "source": [
        "**Fetching the Longitudes and Latitudes of the streets:**"
      ]
    },
    {
      "cell_type": "code",
      "metadata": {
        "id": "aTfsskQwNX3U"
      },
      "source": [
        "Mnc_bor_prices['Latitude'] = None\n",
        "Mnc_bor_prices['Longitude'] = None"
      ],
      "execution_count": 25,
      "outputs": []
    },
    {
      "cell_type": "code",
      "metadata": {
        "id": "qIP-ItsvObqB"
      },
      "source": [
        "def findGeocode(address): \n",
        "    try:\n",
        "      geolocator = Nominatim(user_agent=\"anas.m.ghouri@gmail.com\")\n",
        "      return geolocator.geocode(address)\n",
        "      \n",
        "    except GeocoderTimedOut:\n",
        "      return findGeocode(address)"
      ],
      "execution_count": 26,
      "outputs": []
    }
  ]
}